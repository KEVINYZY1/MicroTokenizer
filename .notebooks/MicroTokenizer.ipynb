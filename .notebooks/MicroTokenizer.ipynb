{
 "cells": [
  {
   "cell_type": "markdown",
   "metadata": {},
   "source": [
    "# 安装 MicroTokenizer"
   ]
  },
  {
   "cell_type": "code",
   "execution_count": 2,
   "metadata": {
    "scrolled": true
   },
   "outputs": [
    {
     "name": "stdout",
     "output_type": "stream",
     "text": [
      "Collecting git+https://github.com/howl-anderson/MicroTokenizer.git\n",
      "  Cloning https://github.com/howl-anderson/MicroTokenizer.git to /tmp/pip-req-build-kfuaefbg\n",
      "Requirement already satisfied: Click>=6.0 in /home/nbuser/anaconda3_501/lib/python3.6/site-packages (from MicroTokenizer==0.1.0) (6.7)\n",
      "Requirement already satisfied: networkx>=2.1 in /home/nbuser/anaconda3_501/lib/python3.6/site-packages (from MicroTokenizer==0.1.0) (2.1)\n",
      "Requirement already satisfied: decorator>=4.1.0 in /home/nbuser/anaconda3_501/lib/python3.6/site-packages (from networkx>=2.1->MicroTokenizer==0.1.0) (4.1.2)\n",
      "Building wheels for collected packages: MicroTokenizer\n",
      "  Running setup.py bdist_wheel for MicroTokenizer ... \u001b[?25ldone\n",
      "\u001b[?25h  Stored in directory: /tmp/pip-ephem-wheel-cache-a3nq_5ce/wheels/6a/bf/28/917a3c7af61bed89ace6d3fd4513561dc71dbeb13d05665efa\n",
      "Successfully built MicroTokenizer\n",
      "Installing collected packages: MicroTokenizer\n",
      "Successfully installed MicroTokenizer-0.1.0\n"
     ]
    }
   ],
   "source": [
    "!pip install git+https://github.com/howl-anderson/MicroTokenizer.git"
   ]
  },
  {
   "cell_type": "markdown",
   "metadata": {},
   "source": [
    "# 导入包（同时会加载字典）"
   ]
  },
  {
   "cell_type": "code",
   "execution_count": 4,
   "metadata": {},
   "outputs": [],
   "source": [
    "import MicroTokenizer"
   ]
  },
  {
   "cell_type": "markdown",
   "metadata": {},
   "source": [
    "# 使用分词接口"
   ]
  },
  {
   "cell_type": "code",
   "execution_count": 5,
   "metadata": {},
   "outputs": [
    {
     "name": "stdout",
     "output_type": "stream",
     "text": [
      "['知识', '就是', '力量']\n"
     ]
    }
   ],
   "source": [
    "tokens = MicroTokenizer.cut(\"知识就是力量\")\n",
    "print(tokens)"
   ]
  },
  {
   "cell_type": "code",
   "execution_count": 6,
   "metadata": {},
   "outputs": [
    {
     "name": "stdout",
     "output_type": "stream",
     "text": [
      "['王小明', '在', '北京', '的', '清华大学', '读书']\n"
     ]
    }
   ],
   "source": [
    "tokens = MicroTokenizer.cut(\"王小明在北京的清华大学读书\")\n",
    "print(tokens)"
   ]
  }
 ],
 "metadata": {
  "kernelspec": {
   "display_name": "Python 3.6",
   "language": "python",
   "name": "python36"
  },
  "language_info": {
   "codemirror_mode": {
    "name": "ipython",
    "version": 3
   },
   "file_extension": ".py",
   "mimetype": "text/x-python",
   "name": "python",
   "nbconvert_exporter": "python",
   "pygments_lexer": "ipython3",
   "version": "3.6.3"
  }
 },
 "nbformat": 4,
 "nbformat_minor": 2
}
